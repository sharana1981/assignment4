{
 "cells": [
  {
   "cell_type": "raw",
   "id": "fadec301",
   "metadata": {},
   "source": [
    "1) [] is a empty list"
   ]
  },
  {
   "cell_type": "code",
   "execution_count": 3,
   "id": "13bf732e",
   "metadata": {},
   "outputs": [
    {
     "data": {
      "text/plain": [
       "[2, 4, 'hello', 8, 10]"
      ]
     },
     "execution_count": 3,
     "metadata": {},
     "output_type": "execute_result"
    }
   ],
   "source": [
    "spam=[2, 4, 6, 8, 10]\n",
    "spam[2]=\"hello\"\n",
    "spam"
   ]
  },
  {
   "cell_type": "raw",
   "id": "86f0e3c3",
   "metadata": {},
   "source": [
    "3)spam=['a','b','c','d']\n",
    "spam[int(int('3'*2)/11)] returns 'd'\n",
    "\n",
    "4) The value of spam[-1] is 'd'\n",
    "\n",
    "5) the value of spam[:2] is ['b','d']\n",
    "\n",
    "6) bacon=[3.14,\"cat\",11,\"cat\", True]\n",
    " bacon.index('cat') will return output as 1\n",
    "\n",
    "7) bacon.append(99) will return output as [3.14,'cat',11,'cat',True,99]\n",
    "8) After executing the bacon.remove('cat') the list will be [3.14, 11, 'cat', True]\n",
    "\n",
    "9) list concatination is defined as joining the list with another list,where as list replication is printing the same list multiple times\n",
    "\n",
    "10)list append is adding new item to the list at the end of the list.but list insert is inserting the new item at particular index of a list \n",
    "\n",
    "11)The two method of removing the item from a list is by using keywords called \"remove\" and \"pop\"\n",
    "\n",
    "12) The list values and string values are identical by indexing\n",
    "\n",
    "13) the difference between tuple and list are \n",
    "    *)The items in the list are stored in the '[]' and the items in the tuple are stored in the ()\n",
    "    *) the main difference between list and tuple is mutability.The list is mutable and tuple is immutable\n",
    "\n",
    "14) we can write a tuple value 42 by (42,),where as trailing , is manditory\n",
    "\n",
    "\n",
    "15)we can get a list value in tuple form by tuple(list name)\n",
    "    we can ge a tuple value in list form by list(tuple name)\n",
    "\n",
    "16)variable that contain list values actually contain a memory address of a list where it as stored in the value space\n",
    "\n",
    "17)copy.copy() is a shallow copy operation where as the data stored in the value space of source variable is completly copied     to destination variable.modification of source variable will not affect the destination variable but in case of nested     \n",
    "  collection it will affect.\n",
    "  copy.deepcopy() is deep copy operation we cannot do deep copy operation directly so we import functionality of copy to do deep   copy operation. the modification with respect to one variable will not affect the another variable\n",
    "\n"
   ]
  }
 ],
 "metadata": {
  "kernelspec": {
   "display_name": "Python 3 (ipykernel)",
   "language": "python",
   "name": "python3"
  },
  "language_info": {
   "codemirror_mode": {
    "name": "ipython",
    "version": 3
   },
   "file_extension": ".py",
   "mimetype": "text/x-python",
   "name": "python",
   "nbconvert_exporter": "python",
   "pygments_lexer": "ipython3",
   "version": "3.9.12"
  }
 },
 "nbformat": 4,
 "nbformat_minor": 5
}
